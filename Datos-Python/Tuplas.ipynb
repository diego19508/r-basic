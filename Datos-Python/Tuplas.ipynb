{
 "cells": [
  {
   "cell_type": "markdown",
   "id": "continental-palmer",
   "metadata": {},
   "source": [
    "# Tuplas"
   ]
  },
  {
   "cell_type": "markdown",
   "id": "taken-columbia",
   "metadata": {},
   "source": [
    "Coleccion de objetos que no se puede modificar ( tiene tamano y contenido fijo)"
   ]
  },
  {
   "cell_type": "code",
   "execution_count": 5,
   "id": "first-heath",
   "metadata": {},
   "outputs": [],
   "source": [
    "p1 = (1,)"
   ]
  },
  {
   "cell_type": "code",
   "execution_count": 6,
   "id": "direct-dream",
   "metadata": {},
   "outputs": [
    {
     "data": {
      "text/plain": [
       "(1,)"
      ]
     },
     "execution_count": 6,
     "metadata": {},
     "output_type": "execute_result"
    }
   ],
   "source": [
    "p1\n"
   ]
  },
  {
   "cell_type": "code",
   "execution_count": 3,
   "id": "complete-schedule",
   "metadata": {},
   "outputs": [],
   "source": [
    "p2 = (1,2,3,4)"
   ]
  },
  {
   "cell_type": "code",
   "execution_count": 4,
   "id": "improving-manner",
   "metadata": {},
   "outputs": [
    {
     "data": {
      "text/plain": [
       "(1, 2, 3, 4)"
      ]
     },
     "execution_count": 4,
     "metadata": {},
     "output_type": "execute_result"
    }
   ],
   "source": [
    "p2"
   ]
  },
  {
   "cell_type": "code",
   "execution_count": 7,
   "id": "occasional-vinyl",
   "metadata": {},
   "outputs": [
    {
     "data": {
      "text/plain": [
       "(1, 2, 'c', 3.1415)"
      ]
     },
     "execution_count": 7,
     "metadata": {},
     "output_type": "execute_result"
    }
   ],
   "source": [
    "p3 = (1,2,'c',3.1415)\n",
    "p3"
   ]
  },
  {
   "cell_type": "code",
   "execution_count": 8,
   "id": "acquired-notebook",
   "metadata": {},
   "outputs": [
    {
     "data": {
      "text/plain": [
       "1"
      ]
     },
     "execution_count": 8,
     "metadata": {},
     "output_type": "execute_result"
    }
   ],
   "source": [
    "p3[0]"
   ]
  },
  {
   "cell_type": "code",
   "execution_count": 9,
   "id": "central-wesley",
   "metadata": {},
   "outputs": [
    {
     "data": {
      "text/plain": [
       "2"
      ]
     },
     "execution_count": 9,
     "metadata": {},
     "output_type": "execute_result"
    }
   ],
   "source": [
    "p3[1]"
   ]
  },
  {
   "cell_type": "code",
   "execution_count": 10,
   "id": "administrative-regard",
   "metadata": {},
   "outputs": [
    {
     "data": {
      "text/plain": [
       "(1, 2)"
      ]
     },
     "execution_count": 10,
     "metadata": {},
     "output_type": "execute_result"
    }
   ],
   "source": [
    "p3[0:2]"
   ]
  },
  {
   "cell_type": "code",
   "execution_count": 17,
   "id": "moderate-minimum",
   "metadata": {},
   "outputs": [],
   "source": [
    "a,b,c,d = p3"
   ]
  },
  {
   "cell_type": "code",
   "execution_count": 18,
   "id": "overhead-seven",
   "metadata": {},
   "outputs": [
    {
     "data": {
      "text/plain": [
       "1"
      ]
     },
     "execution_count": 18,
     "metadata": {},
     "output_type": "execute_result"
    }
   ],
   "source": [
    "a"
   ]
  },
  {
   "cell_type": "code",
   "execution_count": 19,
   "id": "adapted-rough",
   "metadata": {},
   "outputs": [
    {
     "data": {
      "text/plain": [
       "2"
      ]
     },
     "execution_count": 19,
     "metadata": {},
     "output_type": "execute_result"
    }
   ],
   "source": [
    "b"
   ]
  },
  {
   "cell_type": "code",
   "execution_count": 20,
   "id": "polar-child",
   "metadata": {},
   "outputs": [
    {
     "data": {
      "text/plain": [
       "'c'"
      ]
     },
     "execution_count": 20,
     "metadata": {},
     "output_type": "execute_result"
    }
   ],
   "source": [
    "c"
   ]
  },
  {
   "cell_type": "code",
   "execution_count": 21,
   "id": "contained-field",
   "metadata": {},
   "outputs": [
    {
     "data": {
      "text/plain": [
       "3.1415"
      ]
     },
     "execution_count": 21,
     "metadata": {},
     "output_type": "execute_result"
    }
   ],
   "source": [
    "d"
   ]
  },
  {
   "cell_type": "code",
   "execution_count": 23,
   "id": "binary-statement",
   "metadata": {},
   "outputs": [
    {
     "data": {
      "text/plain": [
       "0"
      ]
     },
     "execution_count": 23,
     "metadata": {},
     "output_type": "execute_result"
    }
   ],
   "source": [
    "p3.count(0)"
   ]
  },
  {
   "cell_type": "code",
   "execution_count": 24,
   "id": "hispanic-lloyd",
   "metadata": {},
   "outputs": [],
   "source": [
    "l3 =list(p3)"
   ]
  },
  {
   "cell_type": "code",
   "execution_count": 25,
   "id": "positive-montana",
   "metadata": {},
   "outputs": [
    {
     "data": {
      "text/plain": [
       "[1, 2, 'c', 3.1415]"
      ]
     },
     "execution_count": 25,
     "metadata": {},
     "output_type": "execute_result"
    }
   ],
   "source": [
    "l3"
   ]
  },
  {
   "cell_type": "code",
   "execution_count": 26,
   "id": "liquid-render",
   "metadata": {},
   "outputs": [],
   "source": [
    "l5 = [1,2,3,4,5,6,7,8,9]\n",
    "p5 = tuple(l5)"
   ]
  },
  {
   "cell_type": "code",
   "execution_count": 27,
   "id": "dramatic-intervention",
   "metadata": {},
   "outputs": [
    {
     "data": {
      "text/plain": [
       "(1, 2, 3, 4, 5, 6, 7, 8, 9)"
      ]
     },
     "execution_count": 27,
     "metadata": {},
     "output_type": "execute_result"
    }
   ],
   "source": [
    "p5"
   ]
  },
  {
   "cell_type": "code",
   "execution_count": 28,
   "id": "grand-finance",
   "metadata": {},
   "outputs": [
    {
     "data": {
      "text/plain": [
       "[1, 2, 3, 4, 5, 6, 7, 8, 9]"
      ]
     },
     "execution_count": 28,
     "metadata": {},
     "output_type": "execute_result"
    }
   ],
   "source": [
    "l5"
   ]
  },
  {
   "cell_type": "code",
   "execution_count": 29,
   "id": "favorite-accessory",
   "metadata": {},
   "outputs": [
    {
     "data": {
      "text/plain": [
       "['Hola', 'que', 'tal', 'estas']"
      ]
     },
     "execution_count": 29,
     "metadata": {},
     "output_type": "execute_result"
    }
   ],
   "source": [
    "\"Hola que tal estas\".split(\" \")"
   ]
  },
  {
   "cell_type": "code",
   "execution_count": 30,
   "id": "bronze-trial",
   "metadata": {},
   "outputs": [
    {
     "data": {
      "text/plain": [
       "['4', '6', '2', '7', '9', '4', '2']"
      ]
     },
     "execution_count": 30,
     "metadata": {},
     "output_type": "execute_result"
    }
   ],
   "source": [
    "\"4,6,2,7,9,4,2\".split(\",\")"
   ]
  },
  {
   "cell_type": "code",
   "execution_count": 32,
   "id": "capable-pitch",
   "metadata": {},
   "outputs": [
    {
     "name": "stdout",
     "output_type": "stream",
     "text": [
      "Introduce los numeros, separados por una coma:  3,4,5,6,7,8\n",
      "['3', '4', '5', '6', '7', '8']\n",
      "('3', '4', '5', '6', '7', '8')\n"
     ]
    }
   ],
   "source": [
    "numeros = input(\"Introduce los numeros, separados por una coma:  \")\n",
    "numerosL = numeros.split(\",\")\n",
    "print(numerosL)\n",
    "numerosT = tuple(numerosL)\n",
    "print(numerosT)\n",
    "\n"
   ]
  },
  {
   "cell_type": "code",
   "execution_count": 40,
   "id": "pointed-passing",
   "metadata": {},
   "outputs": [
    {
     "name": "stdout",
     "output_type": "stream",
     "text": [
      "5.5\n"
     ]
    }
   ],
   "source": [
    "suma = 0\n",
    "for n in numerosT:\n",
    "    suma += int(n)\n",
    "print(suma/len(numerosT))"
   ]
  },
  {
   "cell_type": "code",
   "execution_count": null,
   "id": "infectious-headset",
   "metadata": {},
   "outputs": [],
   "source": []
  }
 ],
 "metadata": {
  "kernelspec": {
   "display_name": "Python 3",
   "language": "python",
   "name": "python3"
  },
  "language_info": {
   "codemirror_mode": {
    "name": "ipython",
    "version": 3
   },
   "file_extension": ".py",
   "mimetype": "text/x-python",
   "name": "python",
   "nbconvert_exporter": "python",
   "pygments_lexer": "ipython3",
   "version": "3.9.1"
  }
 },
 "nbformat": 4,
 "nbformat_minor": 5
}
